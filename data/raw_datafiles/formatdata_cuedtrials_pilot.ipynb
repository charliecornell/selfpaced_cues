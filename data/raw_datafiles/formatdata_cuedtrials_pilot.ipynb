{
 "cells": [
  {
   "cell_type": "code",
   "execution_count": 1,
   "id": "761e4e03",
   "metadata": {},
   "outputs": [],
   "source": [
    "import numpy as np\n",
    "import csv\n",
    "\n",
    "pres_all = np.loadtxt('cmrdata_all/pres.txt', delimiter=',')\n",
    "pres_cats_all = np.loadtxt('cmrdata_all/pres_cats.txt', delimiter=',')\n",
    "recs_all = np.loadtxt('cmrdata_all/recs.txt', delimiter=',')\n",
    "recs_cats_all = np.loadtxt('cmrdata_all/recs_cats.txt', delimiter=',')\n",
    "post_recs = np.loadtxt('cmrdata_all/post_rmdr_amt.txt', delimiter=',')"
   ]
  },
  {
   "cell_type": "code",
   "execution_count": 2,
   "id": "98152d4d",
   "metadata": {},
   "outputs": [],
   "source": [
    "pres = []\n",
    "pres_cats = []\n",
    "recs = []\n",
    "recs_cats = []\n",
    "subject_id = []\n",
    "cnt = 0\n",
    "\n",
    "for trial in range(len(pres_all)):\n",
    "    \n",
    "    if post_recs[trial] >= 0:    \n",
    "        \n",
    "        pres_i = []\n",
    "        pres_cats_i = []\n",
    "        recs_i = []\n",
    "        recs_cats_i = []\n",
    "        \n",
    "        for word in pres_all[trial]: pres_i.append(int(word))\n",
    "        for word in pres_cats_all[trial]: pres_cats_i.append(int(word))\n",
    "        for word in recs_all[trial]: recs_i.append(int(word))\n",
    "        for word in recs_cats_all[trial]: recs_cats_i.append(int(word))\n",
    "        \n",
    "        pres.append(pres_i)\n",
    "        pres_cats.append(pres_cats_i)\n",
    "        recs.append(recs_i)\n",
    "        recs_cats.append(recs_cats_i)\n",
    "        subject_id.append(cnt)\n",
    "        cnt+= 1"
   ]
  },
  {
   "cell_type": "code",
   "execution_count": 4,
   "id": "54641bf7",
   "metadata": {},
   "outputs": [],
   "source": [
    "with open('cmrdata_cuedtrials/pres.txt', 'w',newline='') as fp:\n",
    "    writer = csv.writer(fp)\n",
    "    for row in pres: writer.writerow(row)\n",
    "        \n",
    "with open('cmrdata_cuedtrials/pres_cats.txt', 'w',newline='') as fp:\n",
    "    writer = csv.writer(fp)\n",
    "    for row in pres_cats: writer.writerow(row)\n",
    "        \n",
    "with open('cmrdata_cuedtrials/recs.txt', 'w',newline='') as fp:\n",
    "    writer = csv.writer(fp)\n",
    "    for row in recs: writer.writerow(row)\n",
    "        \n",
    "with open('cmrdata_cuedtrials/recs_cats.txt', 'w',newline='') as fp:\n",
    "    writer = csv.writer(fp)\n",
    "    for row in recs_cats: writer.writerow(row)\n",
    "        \n",
    "with open('cmrdata_cuedtrials/subject_id.txt', 'w',newline='') as fp:\n",
    "    writer = csv.writer(fp)\n",
    "    for row in subject_id: writer.writerow([row])"
   ]
  },
  {
   "cell_type": "code",
   "execution_count": null,
   "id": "9d7a3141",
   "metadata": {},
   "outputs": [],
   "source": []
  }
 ],
 "metadata": {
  "kernelspec": {
   "display_name": "Python 3 (ipykernel)",
   "language": "python",
   "name": "python3"
  },
  "language_info": {
   "codemirror_mode": {
    "name": "ipython",
    "version": 3
   },
   "file_extension": ".py",
   "mimetype": "text/x-python",
   "name": "python",
   "nbconvert_exporter": "python",
   "pygments_lexer": "ipython3",
   "version": "3.7.11"
  }
 },
 "nbformat": 4,
 "nbformat_minor": 5
}
